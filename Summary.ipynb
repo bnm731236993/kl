{
 "cells": [
  {
   "cell_type": "code",
   "execution_count": 2,
   "metadata": {},
   "outputs": [],
   "source": [
    "from typing import Union, Optional, Any\n",
    "import random\n",
    "import numpy as np"
   ]
  },
  {
   "cell_type": "code",
   "execution_count": null,
   "metadata": {},
   "outputs": [],
   "source": [
    "from torch.utils import tensorboard"
   ]
  },
  {
   "cell_type": "code",
   "execution_count": 4,
   "metadata": {},
   "outputs": [],
   "source": [
    "from torch.utils.tensorboard import SummaryWriter"
   ]
  },
  {
   "cell_type": "markdown",
   "metadata": {},
   "source": [
    "tensorboard --logdir ./output"
   ]
  },
  {
   "cell_type": "code",
   "execution_count": 23,
   "metadata": {},
   "outputs": [],
   "source": [
    "from pathlib import Path"
   ]
  },
  {
   "cell_type": "markdown",
   "metadata": {},
   "source": [
    "# Summary"
   ]
  },
  {
   "cell_type": "code",
   "execution_count": 26,
   "metadata": {},
   "outputs": [],
   "source": [
    "class Summary:\n",
    "    def __init__(self,\n",
    "                 title: Union[str, Path],\n",
    "                 output: Union[str, Path]):\n",
    "        \"\"\" 日志记录器\n",
    "        args:\n",
    "            title: 日志标题，会在output下创建子文件夹，用于在界面中区分不同实验\n",
    "            output: 日志输出路径\n",
    "        \"\"\"\n",
    "        # 创建日志文件夹\n",
    "        Path(output).mkdir(exist_ok=True,  parents=True)\n",
    "        # 日志记录器\n",
    "        self.writer = SummaryWriter(log_dir=Path(output)/Path(title))\n",
    "\n",
    "    def add(self,\n",
    "            tag: str,\n",
    "            step: int,\n",
    "            value: Any):\n",
    "        \"\"\" 添加单个记录\n",
    "        args:\n",
    "            tag: 图表名称标签\n",
    "            step: 步数\n",
    "            value: 记录值\n",
    "        \"\"\"\n",
    "        # 添加记录\n",
    "        self.writer.add_scalar(tag=tag,\n",
    "                               scalar_value=value,\n",
    "                               global_step=step)\n",
    "        # 刷新\n",
    "        self.writer.flush()\n",
    "\n",
    "    def __del__(self):\n",
    "        \"\"\" 析构函数 \"\"\"\n",
    "        # 刷新\n",
    "        self.writer.flush()\n",
    "        # 关闭写入流\n",
    "        self.writer.close()"
   ]
  },
  {
   "cell_type": "markdown",
   "metadata": {},
   "source": [
    "## 测试"
   ]
  },
  {
   "cell_type": "code",
   "execution_count": 27,
   "metadata": {},
   "outputs": [],
   "source": [
    "summary = Summary(title='实验A',\n",
    "                  output='./output')"
   ]
  },
  {
   "cell_type": "code",
   "execution_count": 28,
   "metadata": {},
   "outputs": [],
   "source": [
    "for k in range(100):\n",
    "    summary.add(\n",
    "        tag='测试/图表A',\n",
    "        step=k,\n",
    "        value=k*2)\n",
    "    summary.add(\n",
    "        tag='测试/图表B',\n",
    "        step=k,\n",
    "        value=k*random.random())"
   ]
  },
  {
   "cell_type": "markdown",
   "metadata": {},
   "source": [
    "## 测试2"
   ]
  },
  {
   "cell_type": "code",
   "execution_count": 29,
   "metadata": {},
   "outputs": [],
   "source": [
    "summary = Summary(title='实验B',\n",
    "                  output='./output')"
   ]
  },
  {
   "cell_type": "code",
   "execution_count": 30,
   "metadata": {},
   "outputs": [],
   "source": [
    "for k in range(100):\n",
    "    summary.add(\n",
    "        tag='测试/图表A',\n",
    "        step=k,\n",
    "        value=k*2)\n",
    "    summary.add(\n",
    "        tag='测试/图表B',\n",
    "        step=k,\n",
    "        value=k*random.random())"
   ]
  }
 ],
 "metadata": {
  "kernelspec": {
   "display_name": ".venv",
   "language": "python",
   "name": "python3"
  },
  "language_info": {
   "codemirror_mode": {
    "name": "ipython",
    "version": 3
   },
   "file_extension": ".py",
   "mimetype": "text/x-python",
   "name": "python",
   "nbconvert_exporter": "python",
   "pygments_lexer": "ipython3",
   "version": "3.10.16"
  }
 },
 "nbformat": 4,
 "nbformat_minor": 2
}
