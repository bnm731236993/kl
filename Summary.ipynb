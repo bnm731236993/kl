{
 "cells": [
  {
   "cell_type": "code",
   "execution_count": 14,
   "metadata": {},
   "outputs": [],
   "source": [
    "from typing import Union, Optional, Any, Dict\n",
    "from pathlib import Path\n",
    "import random\n",
    "import numpy as np"
   ]
  },
  {
   "cell_type": "code",
   "execution_count": 4,
   "metadata": {},
   "outputs": [],
   "source": [
    "from torch.utils.tensorboard import SummaryWriter"
   ]
  },
  {
   "cell_type": "markdown",
   "metadata": {},
   "source": [
    "tensorboard --logdir ./output"
   ]
  },
  {
   "cell_type": "markdown",
   "metadata": {},
   "source": [
    "# 测试"
   ]
  },
  {
   "cell_type": "code",
   "execution_count": 8,
   "metadata": {},
   "outputs": [],
   "source": [
    "writer = SummaryWriter(log_dir='./output/实验D')"
   ]
  },
  {
   "cell_type": "code",
   "execution_count": 9,
   "metadata": {},
   "outputs": [],
   "source": [
    "for x in range(10):\n",
    "    writer.add_scalar(tag='测试/数据A',\n",
    "                      scalar_value=x,\n",
    "                      global_step=x)"
   ]
  },
  {
   "cell_type": "code",
   "execution_count": 11,
   "metadata": {},
   "outputs": [],
   "source": [
    "for x in range(10):\n",
    "    writer.add_scalars(\n",
    "        main_tag='测试/数据A',\n",
    "        tag_scalar_dict={\n",
    "            'y=2x': 2*x,\n",
    "            'y=sin(x)': np.sin(x)},\n",
    "        global_step=x)"
   ]
  },
  {
   "cell_type": "markdown",
   "metadata": {},
   "source": [
    "# Summary"
   ]
  },
  {
   "cell_type": "code",
   "execution_count": 26,
   "metadata": {},
   "outputs": [],
   "source": [
    "class Summary:\n",
    "    def __init__(self,\n",
    "                 title: Union[str, Path],\n",
    "                 output: Union[str, Path]):\n",
    "        \"\"\" 日志记录器\n",
    "        args:\n",
    "            title: 日志标题，会在output下创建子文件夹，用于在界面中区分不同实验\n",
    "            output: 日志输出路径\n",
    "        \"\"\"\n",
    "        # 创建日志文件夹\n",
    "        Path(output).mkdir(exist_ok=True,  parents=True)\n",
    "        # 日志记录器\n",
    "        self.writer = SummaryWriter(log_dir=Path(output)/Path(title))\n",
    "\n",
    "    def add(self,\n",
    "            name: str,\n",
    "            step: int,\n",
    "            value: Any):\n",
    "        \"\"\" 添加单个记录\n",
    "        args:\n",
    "            tag: 图表名称标签\n",
    "            step: 步数\n",
    "            value: 记录值\n",
    "        \"\"\"\n",
    "        # 添加记录\n",
    "        self.writer.add_scalar(tag=name,\n",
    "                               scalar_value=value,\n",
    "                               global_step=step)\n",
    "        # 刷新\n",
    "        self.writer.flush()\n",
    "\n",
    "    def adds(self,\n",
    "             name_value: Dict[str, Any],\n",
    "             step: int):\n",
    "        \"\"\" 添加多个记录 \"\"\"\n",
    "        for name, value in name_value.items():\n",
    "            self.add(name=name, value=value, step=step, )\n",
    "\n",
    "    def __del__(self):\n",
    "        \"\"\" 析构函数 \"\"\"\n",
    "        # 刷新\n",
    "        self.writer.flush()\n",
    "        # 关闭写入流\n",
    "        self.writer.close()"
   ]
  },
  {
   "cell_type": "markdown",
   "metadata": {},
   "source": [
    "## 测试"
   ]
  },
  {
   "cell_type": "code",
   "execution_count": 33,
   "metadata": {},
   "outputs": [],
   "source": [
    "summary = Summary(title='实验I',\n",
    "                  output='./output')"
   ]
  },
  {
   "cell_type": "code",
   "execution_count": 34,
   "metadata": {},
   "outputs": [],
   "source": [
    "for k in range(100):\n",
    "    summary.add(\n",
    "        name='测试/图表A',\n",
    "        value=k*2,\n",
    "        step=k)"
   ]
  },
  {
   "cell_type": "code",
   "execution_count": 35,
   "metadata": {},
   "outputs": [],
   "source": [
    "for k in range(100):\n",
    "    summary.adds(\n",
    "        {'测试/图表B': k**2, '测试/图表C': 5, },\n",
    "        step=k)"
   ]
  }
 ],
 "metadata": {
  "kernelspec": {
   "display_name": ".venv",
   "language": "python",
   "name": "python3"
  },
  "language_info": {
   "codemirror_mode": {
    "name": "ipython",
    "version": 3
   },
   "file_extension": ".py",
   "mimetype": "text/x-python",
   "name": "python",
   "nbconvert_exporter": "python",
   "pygments_lexer": "ipython3",
   "version": "3.10.16"
  }
 },
 "nbformat": 4,
 "nbformat_minor": 2
}
