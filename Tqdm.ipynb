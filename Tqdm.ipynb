{
 "cells": [
  {
   "cell_type": "code",
   "execution_count": 5,
   "metadata": {},
   "outputs": [],
   "source": [
    "import time\n",
    "from tqdm import tqdm\n",
    "from tqdm.notebook import tqdm as tqdm_notebook"
   ]
  },
  {
   "cell_type": "markdown",
   "metadata": {},
   "source": [
    "# tqdm"
   ]
  },
  {
   "cell_type": "code",
   "execution_count": 6,
   "metadata": {},
   "outputs": [
    {
     "name": "stderr",
     "output_type": "stream",
     "text": [
      "前缀: 100%|██████████| 10/10 [00:00<00:00, 18.61it/s]\n"
     ]
    }
   ],
   "source": [
    "# 创建进度条\n",
    "bar = tqdm(initial=0,\n",
    "           total=10,\n",
    "           desc='前缀')\n",
    "for k in range(5):\n",
    "    time.sleep(0.1)\n",
    "    # 更新进度条\n",
    "    _ = bar.update(2)\n",
    "bar.close()"
   ]
  },
  {
   "cell_type": "code",
   "execution_count": 4,
   "metadata": {},
   "outputs": [
    {
     "name": "stderr",
     "output_type": "stream",
     "text": [
      "前缀:  40%|████      | 4/10 [00:00<00:00, 18.62it/s]"
     ]
    },
    {
     "name": "stdout",
     "output_type": "stream",
     "text": [
      "0\n",
      "1\n"
     ]
    },
    {
     "name": "stderr",
     "output_type": "stream",
     "text": [
      "前缀:  80%|████████  | 8/10 [00:00<00:00, 18.29it/s]"
     ]
    },
    {
     "name": "stdout",
     "output_type": "stream",
     "text": [
      "2\n",
      "3\n"
     ]
    },
    {
     "name": "stderr",
     "output_type": "stream",
     "text": [
      "前缀: 100%|██████████| 10/10 [00:00<00:00, 18.32it/s]"
     ]
    },
    {
     "name": "stdout",
     "output_type": "stream",
     "text": [
      "4\n"
     ]
    },
    {
     "name": "stderr",
     "output_type": "stream",
     "text": [
      "\n"
     ]
    }
   ],
   "source": [
    "# 创建进度条\n",
    "bar = tqdm(initial=0,\n",
    "           total=10,\n",
    "           desc='前缀')\n",
    "for k in range(5):\n",
    "    time.sleep(0.1)\n",
    "    # 更新进度条\n",
    "    _ = bar.update(2)\n",
    "    print(k)\n",
    "bar.close()"
   ]
  },
  {
   "cell_type": "markdown",
   "metadata": {},
   "source": [
    "## 与 Jupyter"
   ]
  },
  {
   "cell_type": "code",
   "execution_count": 7,
   "metadata": {},
   "outputs": [
    {
     "data": {
      "application/vnd.jupyter.widget-view+json": {
       "model_id": "2bea086e54a0425ebc060a2ff757ef6c",
       "version_major": 2,
       "version_minor": 0
      },
      "text/plain": [
       "前缀:   0%|          | 0/10 [00:00<?, ?it/s]"
      ]
     },
     "metadata": {},
     "output_type": "display_data"
    }
   ],
   "source": [
    "# 创建进度条\n",
    "bar = tqdm_notebook(initial=0,\n",
    "                    total=10,\n",
    "                    desc='前缀')\n",
    "for k in range(5):\n",
    "    time.sleep(0.1)\n",
    "    # 更新进度条\n",
    "    _ = bar.update(2)\n",
    "bar.close()"
   ]
  },
  {
   "cell_type": "code",
   "execution_count": 8,
   "metadata": {},
   "outputs": [
    {
     "data": {
      "application/vnd.jupyter.widget-view+json": {
       "model_id": "d03b62991bc244cdad450d757228de2b",
       "version_major": 2,
       "version_minor": 0
      },
      "text/plain": [
       "前缀:   0%|          | 0/10 [00:00<?, ?it/s]"
      ]
     },
     "metadata": {},
     "output_type": "display_data"
    },
    {
     "name": "stdout",
     "output_type": "stream",
     "text": [
      "0\n",
      "1\n",
      "2\n",
      "3\n",
      "4\n"
     ]
    }
   ],
   "source": [
    "# 创建进度条\n",
    "bar = tqdm_notebook(initial=0,\n",
    "                    total=10,\n",
    "                    desc='前缀')\n",
    "for k in range(5):\n",
    "    time.sleep(0.1)\n",
    "    # 更新进度条\n",
    "    _ = bar.update(2)\n",
    "    print(k)\n",
    "bar.close()"
   ]
  },
  {
   "cell_type": "markdown",
   "metadata": {},
   "source": [
    "# 整合"
   ]
  },
  {
   "cell_type": "code",
   "execution_count": 9,
   "metadata": {},
   "outputs": [],
   "source": [
    "from kl.utils import is_ipynb"
   ]
  },
  {
   "cell_type": "code",
   "execution_count": 36,
   "metadata": {},
   "outputs": [],
   "source": [
    "class ProgressBar:\n",
    "    \"\"\" 进度条类 \"\"\"\n",
    "\n",
    "    def __init__(self,\n",
    "                 total: int,\n",
    "                 title: str):\n",
    "        if is_ipynb():\n",
    "            # 如果是Jupyter环境\n",
    "            from tqdm.notebook import tqdm\n",
    "        else:\n",
    "            from tqdm import tqdm\n",
    "\n",
    "        self.bar = tqdm(initial=0,\n",
    "                        total=total,\n",
    "                        desc=title)\n",
    "\n",
    "    def update(self, n: int):\n",
    "        _ = self.bar.update(n)\n",
    "\n",
    "    def clear(self):\n",
    "        _ = self.bar.clear()\n",
    "\n",
    "    def __del__(self):\n",
    "        self.bar.close()"
   ]
  },
  {
   "cell_type": "markdown",
   "metadata": {},
   "source": [
    "## 测试"
   ]
  },
  {
   "cell_type": "code",
   "execution_count": 38,
   "metadata": {},
   "outputs": [
    {
     "data": {
      "application/vnd.jupyter.widget-view+json": {
       "model_id": "2ddb566842314ca8ba8db853a11b38cd",
       "version_major": 2,
       "version_minor": 0
      },
      "text/plain": [
       "测试A:   0%|          | 0/10 [00:00<?, ?it/s]"
      ]
     },
     "metadata": {},
     "output_type": "display_data"
    },
    {
     "data": {
      "application/vnd.jupyter.widget-view+json": {
       "model_id": "7005b146476e48e29de7855fcb07e1e3",
       "version_major": 2,
       "version_minor": 0
      },
      "text/plain": [
       "测试B:   0%|          | 0/50 [00:00<?, ?it/s]"
      ]
     },
     "metadata": {},
     "output_type": "display_data"
    },
    {
     "data": {
      "text/plain": [
       "True"
      ]
     },
     "execution_count": 38,
     "metadata": {},
     "output_type": "execute_result"
    }
   ],
   "source": [
    "bar1 = ProgressBar(10, '测试A')\n",
    "bar2 = ProgressBar(50, '测试B')\n",
    "for k in range(10):\n",
    "    # 更新进度条\n",
    "    _ = bar1.update(1)\n",
    "    _ = bar2.update(2)\n",
    "\n",
    "    time.sleep(0.1)"
   ]
  },
  {
   "cell_type": "markdown",
   "metadata": {},
   "source": [
    "## 测试"
   ]
  },
  {
   "cell_type": "code",
   "execution_count": 39,
   "metadata": {},
   "outputs": [],
   "source": [
    "from kl.utils.progress import ProgressBar"
   ]
  },
  {
   "cell_type": "code",
   "execution_count": 40,
   "metadata": {},
   "outputs": [
    {
     "data": {
      "application/vnd.jupyter.widget-view+json": {
       "model_id": "b11dc387cb0b41fa9e21a36f26dfc847",
       "version_major": 2,
       "version_minor": 0
      },
      "text/plain": [
       "测试A:   0%|          | 0/10 [00:00<?, ?it/s]"
      ]
     },
     "metadata": {},
     "output_type": "display_data"
    },
    {
     "data": {
      "application/vnd.jupyter.widget-view+json": {
       "model_id": "bdc6694c2e7c4cba85d6ed54e68fefeb",
       "version_major": 2,
       "version_minor": 0
      },
      "text/plain": [
       "测试B:   0%|          | 0/50 [00:00<?, ?it/s]"
      ]
     },
     "metadata": {},
     "output_type": "display_data"
    }
   ],
   "source": [
    "bar1 = ProgressBar(10, '测试A')\n",
    "bar2 = ProgressBar(50, '测试B')\n",
    "for k in range(10):\n",
    "    # 更新进度条\n",
    "    _ = bar1.update(1)\n",
    "    _ = bar2.update(2)\n",
    "\n",
    "    time.sleep(0.1)"
   ]
  },
  {
   "cell_type": "code",
   "execution_count": 41,
   "metadata": {},
   "outputs": [],
   "source": [
    "import numpy as np"
   ]
  },
  {
   "cell_type": "code",
   "execution_count": 48,
   "metadata": {},
   "outputs": [
    {
     "data": {
      "text/plain": [
       "0.49711790996520094"
      ]
     },
     "execution_count": 48,
     "metadata": {},
     "output_type": "execute_result"
    }
   ],
   "source": [
    "np.random.randn(1).item()"
   ]
  }
 ],
 "metadata": {
  "kernelspec": {
   "display_name": ".venv",
   "language": "python",
   "name": "python3"
  },
  "language_info": {
   "codemirror_mode": {
    "name": "ipython",
    "version": 3
   },
   "file_extension": ".py",
   "mimetype": "text/x-python",
   "name": "python",
   "nbconvert_exporter": "python",
   "pygments_lexer": "ipython3",
   "version": "3.10.16"
  }
 },
 "nbformat": 4,
 "nbformat_minor": 2
}
